{
 "cells": [
  {
   "cell_type": "markdown",
   "id": "e306f925",
   "metadata": {},
   "source": [
    "**Data Mining Superstore: Explorasi, Clustering & Klasifikasi**"
   ]
  },
  {
   "cell_type": "markdown",
   "id": "5d983b41",
   "metadata": {},
   "source": [
    "Langkah 1 : Upload And Load Data"
   ]
  },
  {
   "cell_type": "code",
   "execution_count": null,
   "id": "ff327056",
   "metadata": {},
   "outputs": [],
   "source": [
    "import pandas as pd\n",
    "df = pd.read_excel(\"Datasets Superstore.xlsx\")\n",
    "df.head()"
   ]
  },
  {
   "cell_type": "markdown",
   "id": "7d2e85d3",
   "metadata": {},
   "source": [
    "Langkah 2 : Eksplorasi Data"
   ]
  },
  {
   "cell_type": "code",
   "execution_count": null,
   "id": "8cae91a2",
   "metadata": {},
   "outputs": [],
   "source": [
    "df.info()\n",
    "print(\"\\nMissing values:\\n\", df.isnull().sum())\n",
    "df.describe()\n",
    "df.columns"
   ]
  },
  {
   "cell_type": "markdown",
   "id": "ef1bbc5b",
   "metadata": {},
   "source": [
    "Langkah 3 : Visualisasi"
   ]
  },
  {
   "cell_type": "code",
   "execution_count": null,
   "id": "ad9db024",
   "metadata": {},
   "outputs": [],
   "source": [
    "import seaborn as sns\n",
    "import matplotlib.pyplot as plt\n",
    "\n",
    "df.groupby('Category')['Sales'].sum().plot(kind='bar', title='Penjualan per Kategori')\n",
    "plt.ylabel('Total Sales')\n",
    "plt.show()\n",
    "\n",
    "sns.scatterplot(data=df, x='Discount', y='Profit')\n",
    "plt.title('Diskon vs Profit')\n",
    "plt.show()"
   ]
  },
  {
   "cell_type": "markdown",
   "id": "7987fc17",
   "metadata": {},
   "source": [
    "Langkah 4 : Klasifikasi Untung/rugi(Decission Tree)"
   ]
  },
  {
   "cell_type": "code",
   "execution_count": null,
   "id": "9a15d780",
   "metadata": {},
   "outputs": [],
   "source": [
    "from sklearn.tree import DecisionTreeClassifier\n",
    "from sklearn.model_selection import train_test_split\n",
    "from sklearn.metrics import classification_report, confusion_matrix\n",
    "\n",
    "df['label'] = df['Profit'].apply(lambda x: 1 if x > 0 else 0)\n",
    "features = df[['Sales', 'Discount', 'Quantity']].fillna(0)\n",
    "labels = df['label']\n",
    "\n",
    "X_train, X_test, y_train, y_test = train_test_split(features, labels, test_size=0.3, random_state=42)\n",
    "model = DecisionTreeClassifier()\n",
    "model.fit(X_train, y_train)\n",
    "y_pred = model.predict(X_test)\n",
    "\n",
    "print(\"Classification Report:\\n\", classification_report(y_test, y_pred))\n",
    "print(\"Confusion Matrix:\\n\", confusion_matrix(y_test, y_pred))"
   ]
  },
  {
   "cell_type": "markdown",
   "id": "be6ad721",
   "metadata": {},
   "source": [
    "Langkah 4.1 : Klasifikasi Untung/Rugi(KNN)"
   ]
  },
  {
   "cell_type": "code",
   "execution_count": null,
   "id": "036256b5",
   "metadata": {},
   "outputs": [],
   "source": [
    "from sklearn.neighbors import KNeighborsClassifier\n",
    "from sklearn.model_selection import train_test_split\n",
    "from sklearn.metrics import classification_report, confusion_matrix\n",
    "\n",
    "df['label'] = df['Profit'].apply(lambda x: 1 if x > 0 else 0)\n",
    "features = df[['Sales', 'Discount', 'Quantity']].fillna(0)\n",
    "labels = df['label']\n",
    "\n",
    "X_train, X_test, y_train, y_test = train_test_split(features, labels, test_size=0.3, random_state=42)\n",
    "model = KNeighborsClassifier(n_neighbors=5) \n",
    "model.fit(X_train, y_train)\n",
    "y_pred = model.predict(X_test)\n",
    "\n",
    "print(\"Classification Report:\\n\", classification_report(y_test, y_pred))\n",
    "print(\"Confusion Matrix:\\n\", confusion_matrix(y_test, y_pred))\n"
   ]
  },
  {
   "cell_type": "markdown",
   "id": "6df03c9b",
   "metadata": {},
   "source": [
    "Langkah 4.2 : Klasifikasi Untung/Rugi(Random Forest)"
   ]
  },
  {
   "cell_type": "code",
   "execution_count": null,
   "id": "46b65419",
   "metadata": {},
   "outputs": [],
   "source": [
    "from sklearn.ensemble import RandomForestClassifier\n",
    "from sklearn.model_selection import train_test_split\n",
    "from sklearn.metrics import classification_report, confusion_matrix\n",
    "\n",
    "df['label'] = df['Profit'].apply(lambda x: 1 if x > 0 else 0)\n",
    "features = df[['Sales', 'Discount', 'Quantity']].fillna(0)\n",
    "labels = df['label']\n",
    "\n",
    "X_train, X_test, y_train, y_test = train_test_split(features, labels, test_size=0.3, random_state=42)\n",
    "model = RandomForestClassifier(n_estimators=100, random_state=42)\n",
    "model.fit(X_train, y_train)\n",
    "y_pred = model.predict(X_test)\n",
    "\n",
    "print(\"Classification Report:\\n\", classification_report(y_test, y_pred))\n",
    "print(\"Confusion Matrix:\\n\", confusion_matrix(y_test, y_pred))\n"
   ]
  },
  {
   "cell_type": "markdown",
   "id": "0d490aa6",
   "metadata": {},
   "source": [
    "**KESIMPULAN**\n",
    "\n",
    "Ketiga metode menghasilkan akurasi berbeda karena cara kerja dan sensitivitas mereka terhadap data juga berbeda. Decision Tree cukup fleksibel dalam menangkap pola data dan menghasilkan akurasi 93%, tapi bisa overfitting kalau tidak dikontrol. KNN menghasilkan akurasi lebih rendah (85%) karena sangat bergantung pada jarak antar data, jadi performanya menurun jika data tidak terstandarisasi atau mengandung outlier. Sementara itu, Random Forest mampu mengurangi overfitting dengan menggabungkan banyak pohon, sehingga lebih stabil dan menghasilkan akurasi tertinggi (94%). Jadi perbedaan akurasi ini wajar karena masing-masing algoritma punya kekuatan dan kelemahan tersendiri dalam menangani data."
   ]
  },
  {
   "cell_type": "markdown",
   "id": "05c7150b",
   "metadata": {},
   "source": []
  }
 ],
 "metadata": {
  "kernelspec": {
   "display_name": "Python 3",
   "language": "python",
   "name": "python3"
  },
  "language_info": {
   "codemirror_mode": {
    "name": "ipython",
    "version": 3
   },
   "file_extension": ".py",
   "mimetype": "text/x-python",
   "name": "python",
   "nbconvert_exporter": "python",
   "pygments_lexer": "ipython3",
   "version": "3.12.0"
  }
 },
 "nbformat": 4,
 "nbformat_minor": 5
}
